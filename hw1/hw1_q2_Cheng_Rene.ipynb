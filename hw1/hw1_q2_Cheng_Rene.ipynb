{
 "cells": [
  {
   "cell_type": "code",
   "execution_count": 2,
   "metadata": {},
   "outputs": [
    {
     "name": "stdout",
     "output_type": "stream",
     "text": [
      "GTTGTTCCATGGGAGGAAAGAAGTAGAAGAAG\n",
      "CGTATGCGTATGATGCGTCGTTGA\n"
     ]
    }
   ],
   "source": [
    "#problem 2a\n",
    "#Implement the function reverse_complement.\n",
    "\n",
    "\n",
    "def reverse_complement(seq) :\n",
    "    complement = {'A': 'T', 'C': 'G', 'G': 'C', 'T': 'A'}\n",
    "    return ''.join([complement [base] for base in seq[::-1]])\n",
    "dna= 'CTTCTTCTACTTCTTTCCTCCCATGGAACAAC'\n",
    "print (reverse_complement(dna))\n",
    "dna= 'TCAACGACGCATCATACGCATACG'\n",
    "print (reverse_complement(dna))\n",
    "       \n",
    "\n"
   ]
  },
  {
   "cell_type": "code",
   "execution_count": 4,
   "metadata": {},
   "outputs": [
    {
     "name": "stdout",
     "output_type": "stream",
     "text": [
      "AGGAGUAAAGUUAGCCGAUCGGGUUAGAGCUAGAAAUAGCAAGUUAAAAUAAGGCUAGUCCGUUAUCAACUUGAAAAAGUGGCACCGAGUCGGUGCUUUUUU\n",
      "UCAACGACGCAUCAUACGCAUACG\n"
     ]
    }
   ],
   "source": [
    "#problem 2b\n",
    "#Implement the function convert_dna_to_rna.\n",
    " \n",
    "    \n",
    "def convert_dna_to_rna(seq):\n",
    "    dna_to_rna = {'A':'A','C':'C','G':'G','T':'U'}\n",
    "    return ''.join([dna_to_rna [base] for base in seq])\n",
    "dna= 'AGGAGTAAAGTTAGCCGATCGGGTTAGAGCTAGAAATAGCAAGTTAAAATAAGGCTAGTCCGTTATCAACTTGAAAAAGTGGCACCGAGTCGGTGCTTTTTT'\n",
    "print (convert_dna_to_rna(dna))\n",
    "dna= 'TCAACGACGCATCATACGCATACG'\n",
    "print (convert_dna_to_rna(dna))\n"
   ]
  },
  {
   "cell_type": "code",
   "execution_count": 43,
   "metadata": {},
   "outputs": [
    {
     "name": "stdout",
     "output_type": "stream",
     "text": [
      "Met-Met-Glu-Glu-Arg-Arg\n",
      "Met-Ala-Ala-Gly-Gly-Lys-Lys-Gly-Gly-His-His-Ser-Ser\n"
     ]
    }
   ],
   "source": [
    "# Problem 2c\n",
    "# Implement the function convert_rna_to_aminoacids.\n",
    "\n",
    "def convert_rna_to_aminoacids(rna):\n",
    "    CODON_TO_AMINO = {\n",
    "    'UUU' : 'Phe',\n",
    "    'UUC' : 'Phe',\n",
    "    'UUA' : 'Leu',\n",
    "    'UUG' : 'Leu',\n",
    "    'UCU' : 'Ser',\n",
    "    'UCC' : 'Ser',\n",
    "    'UCA' : 'Ser',\n",
    "    'UCG' : 'Ser',\n",
    "    'UAU' : 'Tyr',\n",
    "    'UAC' : 'Tyr',\n",
    "    'UAA' : 'STOP',\n",
    "    'UAG' : 'STOP',\n",
    "    'UGU' : 'Cys',\n",
    "    'UGC' : 'Cys',\n",
    "    'UGA' : 'STOP',\n",
    "    'UGG' : 'Trp',\n",
    "    'CUU' : 'Leu',\n",
    "    'CUC' : 'Leu',\n",
    "    'CUA' : 'Leu',\n",
    "    'CUG' : 'Leu',\n",
    "    'CCU' : 'Pro',\n",
    "    'CCC' : 'Pro',\n",
    "    'CCA' : 'Pro',\n",
    "    'CCG' : 'Pro',\n",
    "    'CAU' : 'His',\n",
    "    'CAC' : 'His',\n",
    "    'CAA' : 'Gln',\n",
    "    'CAG' : 'Gln',\n",
    "    'CGU' : 'Arg',\n",
    "    'CGC' : 'Arg',\n",
    "    'CGA' : 'Arg',\n",
    "    'CGG' : 'Arg',\n",
    "    'AUU' : 'Ile',\n",
    "    'AUC' : 'Ile',\n",
    "    'AUA' : 'Ile',\n",
    "    'AUG' : 'Met',\n",
    "    'ACU' : 'Thr',\n",
    "    'ACC' : 'Thr',\n",
    "    'ACA' : 'Thr',\n",
    "    'ACG' : 'Thr',\n",
    "    'AAU' : 'Asn',\n",
    "    'AAC' : 'Asn',\n",
    "    'AAA' : 'Lys',\n",
    "    'AAG' : 'Lys',\n",
    "    'AGU' : 'Ser',\n",
    "    'AGC' : 'Ser',\n",
    "    'AGA' : 'Arg',\n",
    "    'AGG' : 'Arg',\n",
    "    'GUU' : 'Val',\n",
    "    'GUC' : 'Val',\n",
    "    'GUA' : 'Val',\n",
    "    'GUG' : 'Val',\n",
    "    'GCU' : 'Ala',\n",
    "    'GCC' : 'Ala',\n",
    "    'GCA' : 'Ala',\n",
    "    'GCG' : 'Ala',\n",
    "    'GAU' : 'Asp',\n",
    "    'GAC' : 'Asp',\n",
    "    'GAA' : 'Glu',\n",
    "    'GAG' : 'Glu',\n",
    "    'GGU' : 'Gly',\n",
    "    'GGC' : 'Gly',\n",
    "    'GGA' : 'Gly',\n",
    "    'GGG' : 'Gly'}\n",
    "    \n",
    "    #find start codon: Met\n",
    "    start_codon_position = -1\n",
    "    for j in range(0, len(rna) - 2) :\n",
    "        codon = rna[j:j+3]\n",
    "        \n",
    "        if codon in CODON_TO_AMINO and CODON_TO_AMINO[codon] == 'Met' :\n",
    "            start_codon_position = j\n",
    "            break\n",
    "     #Return empty string if no start codon was found\n",
    "    if start_codon_position == -1 :\n",
    "        return ''\n",
    "    else:\n",
    "        aminoacids= 'Met'\n",
    "        for j in range(start_codon_position+3,len(rna)-2):\n",
    "            if (j-start_codon_position)%3==0:\n",
    "                codon=rna[j:j+3]\n",
    "            else:\n",
    "                continue\n",
    "            if codon=='UAA'or codon=='UAG'or codon=='UGA':\n",
    "                break\n",
    "            else:\n",
    "                aminoacids +=\"-\"+CODON_TO_AMINO[codon]\n",
    "    \n",
    "    return aminoacids         \n",
    "\n",
    "rna = 'AAGAAGAUGAUGGAAGAACGGCGGUAGGCCGCCUAGAAGAAGAAG'\n",
    "print(convert_rna_to_aminoacids(rna))\n",
    "\n",
    "rna = 'GGGUCGUCGUCGAUGGCCGCCGGUGGUAAGAAGGGAGGACAUCAUUCGUCGUAGGUUGUU'\n",
    "print(convert_rna_to_aminoacids(rna))\n",
    "\n"
   ]
  },
  {
   "cell_type": "code",
   "execution_count": 44,
   "metadata": {},
   "outputs": [
    {
     "name": "stdout",
     "output_type": "stream",
     "text": [
      "Met-Gly-Gly-Lys-Lys\n",
      "Met-Arg-Met-Met-Arg-Arg\n"
     ]
    }
   ],
   "source": [
    "###\n",
    "#\n",
    "# For fun, you can test all of your functions chained together, i.e.\n",
    "# directly Transcribing and Translating your ssDNA sequence to Amino acids.\n",
    "#\n",
    "###\n",
    "\n",
    "dna = 'CTTCTTCTACTTCTTTCCTCCCATGGAACAAC'\n",
    "print(convert_rna_to_aminoacids(convert_dna_to_rna(reverse_complement(dna))))\n",
    "\n",
    "dna = 'TCAACGACGCATCATACGCATACG'\n",
    "print(convert_rna_to_aminoacids(convert_dna_to_rna(reverse_complement(dna))))\n",
    "\n"
   ]
  },
  {
   "cell_type": "code",
   "execution_count": 28,
   "metadata": {},
   "outputs": [
    {
     "name": "stdout",
     "output_type": "stream",
     "text": [
      "Acknowledgement: problem 2c is adviced by Chun-Chih Huang.\n"
     ]
    }
   ],
   "source": [
    "print(\"Acknowledgement: problem 2c is adviced by Chun-Chih Huang.\")"
   ]
  },
  {
   "cell_type": "code",
   "execution_count": null,
   "metadata": {
    "collapsed": true
   },
   "outputs": [],
   "source": []
  }
 ],
 "metadata": {
  "kernelspec": {
   "display_name": "Python 3",
   "language": "python",
   "name": "python3"
  },
  "language_info": {
   "codemirror_mode": {
    "name": "ipython",
    "version": 3
   },
   "file_extension": ".py",
   "mimetype": "text/x-python",
   "name": "python",
   "nbconvert_exporter": "python",
   "pygments_lexer": "ipython3",
   "version": "3.6.2"
  }
 },
 "nbformat": 4,
 "nbformat_minor": 2
}
