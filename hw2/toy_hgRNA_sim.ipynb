{
 "cells": [
  {
   "cell_type": "code",
   "execution_count": 4,
   "metadata": {
    "collapsed": true
   },
   "outputs": [],
   "source": [
    "from random import choice, randint\n",
    "import numpy as np\n",
    "\n",
    "def random_dna(n_bases):\n",
    "    return ''.join(choice(['a','c','g','t']) for i in range(n_bases))\n",
    "    \n",
    "# double-strand break at PAM-2\n",
    "# bases on each side of breakpoint can be deleted and/or bases can be inserted\n",
    "# original bases lowercase\n",
    "# inserted bases uppercase\n",
    "def dsb_indel(guide, del_rate=[.5,.5], ins_rate=[.1,.9]):\n",
    "    up = guide[:-2-np.random.choice([0, 1], p=del_rate)]\n",
    "    dn = guide[-2+np.random.choice([0, 1], p=del_rate):]\n",
    "    insert = ''.join(choice(['A','C','G','T']) for i in range(np.random.choice([0, 1], p=ins_rate)))\n",
    "    new_guide = up + insert + dn\n",
    "    return new_guide\n",
    "\n",
    "# targeting fails once barcodes degenerate below 17 bases\n",
    "def barcode_evolver(barcode):\n",
    "    lineage = [barcode]\n",
    "    while len(lineage[-1]) >= 17: \n",
    "        lineage.append(dsb_indel(lineage[-1]))\n",
    "    return lineage"
   ]
  },
  {
   "cell_type": "markdown",
   "metadata": {},
   "source": [
    "### seq = random_dna(50)\n",
    "seq = 'tttacccagatctatgcaac'\n",
    "barcode_evolver(seq)"
   ]
  },
  {
   "cell_type": "code",
   "execution_count": 7,
   "metadata": {},
   "outputs": [
    {
     "data": {
      "text/plain": [
       "63.253999999999998"
      ]
     },
     "execution_count": 7,
     "metadata": {},
     "output_type": "execute_result"
    }
   ],
   "source": [
    "# average number of barcodes of many recordings\n",
    "x = []\n",
    "for i in range(1000):\n",
    "    x.append(len(barcode_evolver(seq)))\n",
    "np.asarray(x).mean()"
   ]
  },
  {
   "cell_type": "code",
   "execution_count": null,
   "metadata": {
    "collapsed": true
   },
   "outputs": [],
   "source": []
  },
  {
   "cell_type": "code",
   "execution_count": null,
   "metadata": {
    "collapsed": true
   },
   "outputs": [],
   "source": []
  },
  {
   "cell_type": "code",
   "execution_count": null,
   "metadata": {
    "collapsed": true
   },
   "outputs": [],
   "source": []
  },
  {
   "cell_type": "code",
   "execution_count": null,
   "metadata": {
    "collapsed": true
   },
   "outputs": [],
   "source": []
  }
 ],
 "metadata": {
  "kernelspec": {
   "display_name": "Python 3",
   "language": "python",
   "name": "python3"
  },
  "language_info": {
   "codemirror_mode": {
    "name": "ipython",
    "version": 3
   },
   "file_extension": ".py",
   "mimetype": "text/x-python",
   "name": "python",
   "nbconvert_exporter": "python",
   "pygments_lexer": "ipython3",
   "version": "3.6.2"
  }
 },
 "nbformat": 4,
 "nbformat_minor": 2
}
