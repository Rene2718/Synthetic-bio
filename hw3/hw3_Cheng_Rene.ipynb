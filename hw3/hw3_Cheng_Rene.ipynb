{
 "cells": [
  {
   "cell_type": "code",
   "execution_count": 18,
   "metadata": {
    "collapsed": true
   },
   "outputs": [],
   "source": [
    "import numpy as np\n",
    "import pandas as pd\n",
    "from scipy.optimize import minimize\n",
    "import matplotlib.pyplot as plt\n"
   ]
  },
  {
   "cell_type": "code",
   "execution_count": 19,
   "metadata": {},
   "outputs": [
    {
     "name": "stdout",
     "output_type": "stream",
     "text": [
      "Dataset:\n",
      "   repressor_conc  fluorescence_1  fluorescence_2  fluorescence_3\n",
      "0       41.152263            1683            1811            2139\n",
      "1       13.717421            1818            1724            1789\n",
      "2        4.572474            1863            1878            1909\n",
      "3        1.524158            2301            2264            2096\n",
      "4        0.508053            2329            2245            2610\n",
      "[  0.00000000e+00   7.74352000e-05   2.32305700e-04   6.96917200e-04\n",
      "   2.09075160e-03   6.27225470e-03   1.88167642e-02   5.64502927e-02\n",
      "   1.69350878e-01   5.08052634e-01   1.52415790e+00   4.57247371e+00\n",
      "   1.37174211e+01   4.11522634e+01]\n",
      "[[ 20962.  20877.  20624.  16697.   7718.   7059.   3686.   2936.   3330.\n",
      "    2329.   2301.   1863.   1818.   1683.]\n",
      " [ 21047.  20292.  19405.  15775.   8933.   6300.   3539.   2796.   3133.\n",
      "    2245.   2264.   1878.   1724.   1811.]\n",
      " [ 22735.  21919.  21047.  15395.   7321.   5952.   3343.   2865.   2774.\n",
      "    2610.   2096.   1909.   1789.   2139.]]\n"
     ]
    }
   ],
   "source": [
    "data_file = 'repressor_timeseries.csv'\n",
    "df_data = pd.read_csv(data_file, sep='\\t')\n",
    "\n",
    "print('Dataset:')\n",
    "print(df_data.head())\n",
    "\n",
    "num_experiments = 3\n",
    "\n",
    "#Get a 1D numpy array of x-values (repressor concentrations)\n",
    "x = np.ravel(np.array(list(df_data.repressor_conc)))[::-1]\n",
    "#Get a 2D matrix of measured target y-values (fluorescence). Rows are indepdendent experiments, Columns fluorescence values.\n",
    "targets = np.zeros((num_experiments, len(x)))\n",
    "for i in range(1, 1 + num_experiments) :\n",
    "    target = np.ravel(np.array(list(df_data['fluorescence_' + str(i)])))[::-1]\n",
    "    targets[i-1, :] = target\n",
    "    \n",
    "print (x)\n",
    "print (targets)"
   ]
  },
  {
   "cell_type": "code",
   "execution_count": 20,
   "metadata": {},
   "outputs": [
    {
     "data": {
      "image/png": "[encoded data removed]",
      "text/plain": [
       "<matplotlib.figure.Figure at 0x111f47f60>"
      ]
     },
     "metadata": {},
     "output_type": "display_data"
    }
   ],
   "source": [
    "###\n",
    "#\n",
    "# Problem 2.a: Compute the mean and standard deviation of the measured values (mean fluorescence and deviation between the experiments,\n",
    "# for each data point), and plot the them. Where in the hill-curve, according to the data, do you see most variation?\n",
    "#\n",
    "###\n",
    "mean = np.mean(targets, axis=0)\n",
    "sd = np.std(targets, axis=0)\n",
    "plt.errorbar(x,mean,sd, linestyle='None', marker='.')\n",
    "plt.xscale('log')\n",
    "plt.xlabel(\"Repressor_Conc\")\n",
    "plt.ylabel('Fluorescence')\n",
    "plt.show()"
   ]
  },
  {
   "cell_type": "code",
   "execution_count": 21,
   "metadata": {},
   "outputs": [
    {
     "name": "stdout",
     "output_type": "stream",
     "text": [
      "Optimization terminated successfully.    (Exit mode 0)\n",
      "            Current function value: 6498699.279296576\n",
      "            Iterations: 9\n",
      "            Function evaluations: 87\n",
      "            Gradient evaluations: 9\n",
      "[  1.95650528e+04   1.17788493e+00   7.74512211e+02   2.37482892e+03]\n"
     ]
    }
   ],
   "source": [
    "###\n",
    "#\n",
    "# Problem 2.b: Implement the function hill_curve,\n",
    "# which computes the hill-curve values of the input repressor values x (numpy array).\n",
    "#\n",
    "###\n",
    "def hill_curve(G_max, n, K, G_0, x) :\n",
    "    return G_max / (1+(x*K)**n ) + G_0\n",
    "###\n",
    "#\n",
    "# Problem 2.b: Implement the function objective_function.\n",
    "# It should return the Sum-of-squared Error between target (measured) and predicted fluorescence.\n",
    "# The input repressor values and target fluorescence values can be passed \n",
    "# into the args-parameter via scipy.optimize.minimize.\n",
    "# The predicted fluorescence values should be computed by calling the hill_curve function.\n",
    "#\n",
    "###\n",
    "def objective_function(params, args) :\n",
    "    \n",
    "    x, target = args\n",
    "    \n",
    "    G_max = params[0]\n",
    "    n = params[1]\n",
    "    K = params[2]\n",
    "    G_0 = params[3]\n",
    "\n",
    "    return sum((target- hill_curve(G_max, n, K, G_0, x))**2)\n",
    "\n",
    "###\n",
    "# This defines the constraints that must be satisfied by the numerical optimizer:\n",
    "#\n",
    "# G_max >= 0\n",
    "# 0 <= n <= 5\n",
    "# K >= 0\n",
    "# G_0 >= 0\n",
    "#\n",
    "###\n",
    "cons = (\n",
    "    #G_max >= 0\n",
    "    {'type': 'ineq',\n",
    "    'fun' : lambda x: np.array([x[0]]),\n",
    "    'jac' : lambda x: np.array([1, 0, 0, 0])},\n",
    "    #n >= 0\n",
    "    {'type': 'ineq',\n",
    "    'fun' : lambda x: np.array([x[1]]),\n",
    "    'jac' : lambda x: np.array([0, 1, 0, 0])},\n",
    "    #n <= 5\n",
    "    {'type': 'ineq',\n",
    "    'fun' : lambda x: np.array([5 - x[1]]),\n",
    "    'jac' : lambda x: np.array([0, -1, 0, 0])},\n",
    "    #K >= 0\n",
    "    {'type': 'ineq',\n",
    "    'fun' : lambda x: np.array([x[2]]),\n",
    "    'jac' : lambda x: np.array([0, 0, 1, 0])},\n",
    "    #G_0 >= 0\n",
    "    {'type': 'ineq',\n",
    "    'fun' : lambda x: np.array([x[3]]),\n",
    "    'jac' : lambda x: np.array([0, 0, 0, 1])}\n",
    ")\n",
    "\n",
    "\n",
    "###\n",
    "#\n",
    "# Problem 2.b: Write code using the scipy function scipy.optimize.minimize\n",
    "# to fit a hill-curve model (consisting of the 4 parameters above) to the experimental data.\n",
    "# The input values are the repressor concentration values.\n",
    "# The target (measured) values are the mean fluorescence values.\n",
    "# Finally plot the fitted hill-curve in the range (0, 100]. Overlay the experimental means.\n",
    "#\n",
    "# Tip: The hill-curve is a highly non-linear function of the free parameters we want to fit.\n",
    "# In such cases, the optimization is not guaranteed to be convex and you could end up in a bad local minima.\n",
    "# Therefore it's good practice to randomly initialize the parameters.\n",
    "# For example, randomly initializing n in range [0, 5] and the other parameters in range [0, 10^5].\n",
    "#\n",
    "###\n",
    "#params = [np.random.randint(0, 10**5),np.random.randint(0, 5),np.random.randint(0, 10**5),np.random.randint(0, 10**5)]\n",
    "params = [19565,1.177,774.5,2374.8]\n",
    "\n",
    "#the params are offer from Eric Yang\n",
    "\n",
    "#minimize\n",
    "result=minimize(objective_function, params, args=[x,mean], constraints=cons, method='SLSQP',options={'disp': True})\n",
    "print (result.x)\n",
    "\n",
    "\n"
   ]
  },
  {
   "cell_type": "code",
   "execution_count": 22,
   "metadata": {
    "scrolled": true
   },
   "outputs": [
    {
     "data": {
      "image/png": "[encoded data removed]",
      "text/plain": [
       "<matplotlib.figure.Figure at 0x111aadd68>"
      ]
     },
     "metadata": {},
     "output_type": "display_data"
    }
   ],
   "source": [
    "plt.plot(x,hill_curve(result.x[0],result.x[1],result.x[2],result.x[3],x))\n",
    "plt.errorbar(x,mean,sd, linestyle='None', marker='.')\n",
    "plt.xscale('log')\n",
    "plt.xlabel(\"Repressor_Conc\")\n",
    "plt.ylabel('Fluorescence')\n",
    "plt.show()\n"
   ]
  },
  {
   "cell_type": "code",
   "execution_count": null,
   "metadata": {
    "collapsed": true
   },
   "outputs": [],
   "source": []
  },
  {
   "cell_type": "code",
   "execution_count": null,
   "metadata": {
    "collapsed": true
   },
   "outputs": [],
   "source": []
  },
  {
   "cell_type": "code",
   "execution_count": null,
   "metadata": {
    "collapsed": true
   },
   "outputs": [],
   "source": []
  },
  {
   "cell_type": "code",
   "execution_count": null,
   "metadata": {
    "collapsed": true
   },
   "outputs": [],
   "source": []
  }
 ],
 "metadata": {
  "kernelspec": {
   "display_name": "Python 3",
   "language": "python",
   "name": "python3"
  },
  "language_info": {
   "codemirror_mode": {
    "name": "ipython",
    "version": 3
   },
   "file_extension": ".py",
   "mimetype": "text/x-python",
   "name": "python",
   "nbconvert_exporter": "python",
   "pygments_lexer": "ipython3",
   "version": "3.6.2"
  }
 },
 "nbformat": 4,
 "nbformat_minor": 1
}
